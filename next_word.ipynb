{
 "cells": [
  {
   "cell_type": "code",
   "execution_count": 1,
   "id": "1e395f20",
   "metadata": {
    "_kg_hide-input": true,
    "execution": {
     "iopub.execute_input": "2024-08-26T14:49:07.617436Z",
     "iopub.status.busy": "2024-08-26T14:49:07.616649Z",
     "iopub.status.idle": "2024-08-26T14:49:07.636750Z",
     "shell.execute_reply": "2024-08-26T14:49:07.636076Z"
    },
    "papermill": {
     "duration": 0.028199,
     "end_time": "2024-08-26T14:49:07.638703",
     "exception": false,
     "start_time": "2024-08-26T14:49:07.610504",
     "status": "completed"
    },
    "tags": []
   },
   "outputs": [],
   "source": [
    "file_path = '/kaggle/input/dialogs/dialogs.txt'\n",
    "with open(file_path, 'r') as file:\n",
    "    # Read the content of the file\n",
    "    content = file.read()"
   ]
  },
  {
   "cell_type": "code",
   "execution_count": 2,
   "id": "a0ef8691",
   "metadata": {
    "execution": {
     "iopub.execute_input": "2024-08-26T14:49:07.648718Z",
     "iopub.status.busy": "2024-08-26T14:49:07.648447Z",
     "iopub.status.idle": "2024-08-26T14:49:21.496109Z",
     "shell.execute_reply": "2024-08-26T14:49:21.495184Z"
    },
    "papermill": {
     "duration": 13.855532,
     "end_time": "2024-08-26T14:49:21.498930",
     "exception": false,
     "start_time": "2024-08-26T14:49:07.643398",
     "status": "completed"
    },
    "tags": []
   },
   "outputs": [
    {
     "name": "stderr",
     "output_type": "stream",
     "text": [
      "2024-08-26 14:49:09.840103: E external/local_xla/xla/stream_executor/cuda/cuda_dnn.cc:9261] Unable to register cuDNN factory: Attempting to register factory for plugin cuDNN when one has already been registered\n",
      "2024-08-26 14:49:09.840233: E external/local_xla/xla/stream_executor/cuda/cuda_fft.cc:607] Unable to register cuFFT factory: Attempting to register factory for plugin cuFFT when one has already been registered\n",
      "2024-08-26 14:49:10.008362: E external/local_xla/xla/stream_executor/cuda/cuda_blas.cc:1515] Unable to register cuBLAS factory: Attempting to register factory for plugin cuBLAS when one has already been registered\n"
     ]
    }
   ],
   "source": [
    "import tensorflow as tf\n",
    "from tensorflow.keras.preprocessing.text import Tokenizer\n",
    "\n",
    "tokenizer=Tokenizer()\n",
    "tokenizer.fit_on_texts([content])"
   ]
  },
  {
   "cell_type": "code",
   "execution_count": 3,
   "id": "73b6ffbc",
   "metadata": {
    "execution": {
     "iopub.execute_input": "2024-08-26T14:49:21.512454Z",
     "iopub.status.busy": "2024-08-26T14:49:21.511247Z",
     "iopub.status.idle": "2024-08-26T14:49:21.521071Z",
     "shell.execute_reply": "2024-08-26T14:49:21.519599Z"
    },
    "papermill": {
     "duration": 0.01786,
     "end_time": "2024-08-26T14:49:21.523159",
     "exception": false,
     "start_time": "2024-08-26T14:49:21.505299",
     "status": "completed"
    },
    "tags": []
   },
   "outputs": [
    {
     "data": {
      "text/plain": [
       "2519"
      ]
     },
     "execution_count": 3,
     "metadata": {},
     "output_type": "execute_result"
    }
   ],
   "source": [
    "len(tokenizer.word_index)"
   ]
  },
  {
   "cell_type": "code",
   "execution_count": 4,
   "id": "7d6bd1c7",
   "metadata": {
    "execution": {
     "iopub.execute_input": "2024-08-26T14:49:21.534770Z",
     "iopub.status.busy": "2024-08-26T14:49:21.534018Z",
     "iopub.status.idle": "2024-08-26T14:49:21.801416Z",
     "shell.execute_reply": "2024-08-26T14:49:21.800685Z"
    },
    "papermill": {
     "duration": 0.275608,
     "end_time": "2024-08-26T14:49:21.803639",
     "exception": false,
     "start_time": "2024-08-26T14:49:21.528031",
     "status": "completed"
    },
    "tags": []
   },
   "outputs": [],
   "source": [
    "input_sequences = []\n",
    "for sentence in content.split('\\n'):\n",
    "  tokenized_sentence = tokenizer.texts_to_sequences([sentence])[0]\n",
    "\n",
    "  for i in range(1,len(tokenized_sentence)):\n",
    "    input_sequences.append(tokenized_sentence[:i+1])\n"
   ]
  },
  {
   "cell_type": "code",
   "execution_count": 5,
   "id": "5d659b81",
   "metadata": {
    "execution": {
     "iopub.execute_input": "2024-08-26T14:49:21.814254Z",
     "iopub.status.busy": "2024-08-26T14:49:21.813940Z",
     "iopub.status.idle": "2024-08-26T14:49:21.821953Z",
     "shell.execute_reply": "2024-08-26T14:49:21.821155Z"
    },
    "papermill": {
     "duration": 0.015344,
     "end_time": "2024-08-26T14:49:21.823802",
     "exception": false,
     "start_time": "2024-08-26T14:49:21.808458",
     "status": "completed"
    },
    "tags": []
   },
   "outputs": [],
   "source": [
    "max_len = max([len(x) for x in input_sequences])"
   ]
  },
  {
   "cell_type": "code",
   "execution_count": 6,
   "id": "64842eb9",
   "metadata": {
    "execution": {
     "iopub.execute_input": "2024-08-26T14:49:21.833787Z",
     "iopub.status.busy": "2024-08-26T14:49:21.833536Z",
     "iopub.status.idle": "2024-08-26T14:49:22.008914Z",
     "shell.execute_reply": "2024-08-26T14:49:22.008179Z"
    },
    "papermill": {
     "duration": 0.182811,
     "end_time": "2024-08-26T14:49:22.011071",
     "exception": false,
     "start_time": "2024-08-26T14:49:21.828260",
     "status": "completed"
    },
    "tags": []
   },
   "outputs": [],
   "source": [
    "from tensorflow.keras.preprocessing.sequence import pad_sequences\n",
    "padded_input_sequences = pad_sequences(input_sequences, maxlen = max_len, padding='pre')"
   ]
  },
  {
   "cell_type": "code",
   "execution_count": 7,
   "id": "7735b37b",
   "metadata": {
    "execution": {
     "iopub.execute_input": "2024-08-26T14:49:22.021825Z",
     "iopub.status.busy": "2024-08-26T14:49:22.021328Z",
     "iopub.status.idle": "2024-08-26T14:49:22.025469Z",
     "shell.execute_reply": "2024-08-26T14:49:22.024565Z"
    },
    "papermill": {
     "duration": 0.011693,
     "end_time": "2024-08-26T14:49:22.027571",
     "exception": false,
     "start_time": "2024-08-26T14:49:22.015878",
     "status": "completed"
    },
    "tags": []
   },
   "outputs": [],
   "source": [
    "X = padded_input_sequences[:,:-1]\n",
    "y = padded_input_sequences[:,-1]"
   ]
  },
  {
   "cell_type": "code",
   "execution_count": 8,
   "id": "5beb66eb",
   "metadata": {
    "execution": {
     "iopub.execute_input": "2024-08-26T14:49:22.038383Z",
     "iopub.status.busy": "2024-08-26T14:49:22.037892Z",
     "iopub.status.idle": "2024-08-26T14:49:22.145820Z",
     "shell.execute_reply": "2024-08-26T14:49:22.145075Z"
    },
    "papermill": {
     "duration": 0.115607,
     "end_time": "2024-08-26T14:49:22.148153",
     "exception": false,
     "start_time": "2024-08-26T14:49:22.032546",
     "status": "completed"
    },
    "tags": []
   },
   "outputs": [],
   "source": [
    "\n",
    "from tensorflow.keras.utils import to_categorical\n",
    "y = to_categorical(y,num_classes=len(tokenizer.word_index)+1)"
   ]
  },
  {
   "cell_type": "code",
   "execution_count": 9,
   "id": "fdbc54f5",
   "metadata": {
    "execution": {
     "iopub.execute_input": "2024-08-26T14:49:22.159129Z",
     "iopub.status.busy": "2024-08-26T14:49:22.158608Z",
     "iopub.status.idle": "2024-08-26T14:49:22.164994Z",
     "shell.execute_reply": "2024-08-26T14:49:22.164350Z"
    },
    "papermill": {
     "duration": 0.013793,
     "end_time": "2024-08-26T14:49:22.166885",
     "exception": false,
     "start_time": "2024-08-26T14:49:22.153092",
     "status": "completed"
    },
    "tags": []
   },
   "outputs": [],
   "source": [
    "from tensorflow.keras.models import Sequential\n",
    "from tensorflow.keras.layers import Embedding, LSTM, Dense"
   ]
  },
  {
   "cell_type": "code",
   "execution_count": 10,
   "id": "14b6633d",
   "metadata": {
    "execution": {
     "iopub.execute_input": "2024-08-26T14:49:22.176745Z",
     "iopub.status.busy": "2024-08-26T14:49:22.176498Z",
     "iopub.status.idle": "2024-08-26T14:49:22.181797Z",
     "shell.execute_reply": "2024-08-26T14:49:22.180977Z"
    },
    "papermill": {
     "duration": 0.012449,
     "end_time": "2024-08-26T14:49:22.183779",
     "exception": false,
     "start_time": "2024-08-26T14:49:22.171330",
     "status": "completed"
    },
    "tags": []
   },
   "outputs": [
    {
     "data": {
      "text/plain": [
       "2520"
      ]
     },
     "execution_count": 10,
     "metadata": {},
     "output_type": "execute_result"
    }
   ],
   "source": [
    "len(tokenizer.word_index)+1"
   ]
  },
  {
   "cell_type": "code",
   "execution_count": 11,
   "id": "274c2045",
   "metadata": {
    "execution": {
     "iopub.execute_input": "2024-08-26T14:49:22.194061Z",
     "iopub.status.busy": "2024-08-26T14:49:22.193775Z",
     "iopub.status.idle": "2024-08-26T14:49:23.795440Z",
     "shell.execute_reply": "2024-08-26T14:49:23.794410Z"
    },
    "papermill": {
     "duration": 1.609164,
     "end_time": "2024-08-26T14:49:23.797487",
     "exception": false,
     "start_time": "2024-08-26T14:49:22.188323",
     "status": "completed"
    },
    "tags": []
   },
   "outputs": [
    {
     "name": "stderr",
     "output_type": "stream",
     "text": [
      "/opt/conda/lib/python3.10/site-packages/keras/src/layers/core/embedding.py:90: UserWarning: Argument `input_length` is deprecated. Just remove it.\n",
      "  warnings.warn(\n"
     ]
    },
    {
     "data": {
      "text/html": [
       "<pre style=\"white-space:pre;overflow-x:auto;line-height:normal;font-family:Menlo,'DejaVu Sans Mono',consolas,'Courier New',monospace\"><span style=\"font-weight: bold\">Model: \"sequential\"</span>\n",
       "</pre>\n"
      ],
      "text/plain": [
       "\u001b[1mModel: \"sequential\"\u001b[0m\n"
      ]
     },
     "metadata": {},
     "output_type": "display_data"
    },
    {
     "data": {
      "text/html": [
       "<pre style=\"white-space:pre;overflow-x:auto;line-height:normal;font-family:Menlo,'DejaVu Sans Mono',consolas,'Courier New',monospace\">┏━━━━━━━━━━━━━━━━━━━━━━━━━━━━━━━━━┳━━━━━━━━━━━━━━━━━━━━━━━━┳━━━━━━━━━━━━━━━┓\n",
       "┃<span style=\"font-weight: bold\"> Layer (type)                    </span>┃<span style=\"font-weight: bold\"> Output Shape           </span>┃<span style=\"font-weight: bold\">       Param # </span>┃\n",
       "┡━━━━━━━━━━━━━━━━━━━━━━━━━━━━━━━━━╇━━━━━━━━━━━━━━━━━━━━━━━━╇━━━━━━━━━━━━━━━┩\n",
       "│ embedding (<span style=\"color: #0087ff; text-decoration-color: #0087ff\">Embedding</span>)           │ (<span style=\"color: #00d7ff; text-decoration-color: #00d7ff\">None</span>, <span style=\"color: #00af00; text-decoration-color: #00af00\">31</span>, <span style=\"color: #00af00; text-decoration-color: #00af00\">100</span>)        │       <span style=\"color: #00af00; text-decoration-color: #00af00\">252,000</span> │\n",
       "├─────────────────────────────────┼────────────────────────┼───────────────┤\n",
       "│ lstm (<span style=\"color: #0087ff; text-decoration-color: #0087ff\">LSTM</span>)                     │ (<span style=\"color: #00d7ff; text-decoration-color: #00d7ff\">None</span>, <span style=\"color: #00af00; text-decoration-color: #00af00\">31</span>, <span style=\"color: #00af00; text-decoration-color: #00af00\">150</span>)        │       <span style=\"color: #00af00; text-decoration-color: #00af00\">150,600</span> │\n",
       "├─────────────────────────────────┼────────────────────────┼───────────────┤\n",
       "│ dropout (<span style=\"color: #0087ff; text-decoration-color: #0087ff\">Dropout</span>)               │ (<span style=\"color: #00d7ff; text-decoration-color: #00d7ff\">None</span>, <span style=\"color: #00af00; text-decoration-color: #00af00\">31</span>, <span style=\"color: #00af00; text-decoration-color: #00af00\">150</span>)        │             <span style=\"color: #00af00; text-decoration-color: #00af00\">0</span> │\n",
       "├─────────────────────────────────┼────────────────────────┼───────────────┤\n",
       "│ lstm_1 (<span style=\"color: #0087ff; text-decoration-color: #0087ff\">LSTM</span>)                   │ (<span style=\"color: #00d7ff; text-decoration-color: #00d7ff\">None</span>, <span style=\"color: #00af00; text-decoration-color: #00af00\">31</span>, <span style=\"color: #00af00; text-decoration-color: #00af00\">150</span>)        │       <span style=\"color: #00af00; text-decoration-color: #00af00\">180,600</span> │\n",
       "├─────────────────────────────────┼────────────────────────┼───────────────┤\n",
       "│ dropout_1 (<span style=\"color: #0087ff; text-decoration-color: #0087ff\">Dropout</span>)             │ (<span style=\"color: #00d7ff; text-decoration-color: #00d7ff\">None</span>, <span style=\"color: #00af00; text-decoration-color: #00af00\">31</span>, <span style=\"color: #00af00; text-decoration-color: #00af00\">150</span>)        │             <span style=\"color: #00af00; text-decoration-color: #00af00\">0</span> │\n",
       "├─────────────────────────────────┼────────────────────────┼───────────────┤\n",
       "│ lstm_2 (<span style=\"color: #0087ff; text-decoration-color: #0087ff\">LSTM</span>)                   │ (<span style=\"color: #00d7ff; text-decoration-color: #00d7ff\">None</span>, <span style=\"color: #00af00; text-decoration-color: #00af00\">31</span>, <span style=\"color: #00af00; text-decoration-color: #00af00\">150</span>)        │       <span style=\"color: #00af00; text-decoration-color: #00af00\">180,600</span> │\n",
       "├─────────────────────────────────┼────────────────────────┼───────────────┤\n",
       "│ dropout_2 (<span style=\"color: #0087ff; text-decoration-color: #0087ff\">Dropout</span>)             │ (<span style=\"color: #00d7ff; text-decoration-color: #00d7ff\">None</span>, <span style=\"color: #00af00; text-decoration-color: #00af00\">31</span>, <span style=\"color: #00af00; text-decoration-color: #00af00\">150</span>)        │             <span style=\"color: #00af00; text-decoration-color: #00af00\">0</span> │\n",
       "├─────────────────────────────────┼────────────────────────┼───────────────┤\n",
       "│ lstm_3 (<span style=\"color: #0087ff; text-decoration-color: #0087ff\">LSTM</span>)                   │ (<span style=\"color: #00d7ff; text-decoration-color: #00d7ff\">None</span>, <span style=\"color: #00af00; text-decoration-color: #00af00\">150</span>)            │       <span style=\"color: #00af00; text-decoration-color: #00af00\">180,600</span> │\n",
       "├─────────────────────────────────┼────────────────────────┼───────────────┤\n",
       "│ dropout_3 (<span style=\"color: #0087ff; text-decoration-color: #0087ff\">Dropout</span>)             │ (<span style=\"color: #00d7ff; text-decoration-color: #00d7ff\">None</span>, <span style=\"color: #00af00; text-decoration-color: #00af00\">150</span>)            │             <span style=\"color: #00af00; text-decoration-color: #00af00\">0</span> │\n",
       "├─────────────────────────────────┼────────────────────────┼───────────────┤\n",
       "│ dense (<span style=\"color: #0087ff; text-decoration-color: #0087ff\">Dense</span>)                   │ (<span style=\"color: #00d7ff; text-decoration-color: #00d7ff\">None</span>, <span style=\"color: #00af00; text-decoration-color: #00af00\">200</span>)            │        <span style=\"color: #00af00; text-decoration-color: #00af00\">30,200</span> │\n",
       "├─────────────────────────────────┼────────────────────────┼───────────────┤\n",
       "│ batch_normalization             │ (<span style=\"color: #00d7ff; text-decoration-color: #00d7ff\">None</span>, <span style=\"color: #00af00; text-decoration-color: #00af00\">200</span>)            │           <span style=\"color: #00af00; text-decoration-color: #00af00\">800</span> │\n",
       "│ (<span style=\"color: #0087ff; text-decoration-color: #0087ff\">BatchNormalization</span>)            │                        │               │\n",
       "├─────────────────────────────────┼────────────────────────┼───────────────┤\n",
       "│ dense_1 (<span style=\"color: #0087ff; text-decoration-color: #0087ff\">Dense</span>)                 │ (<span style=\"color: #00d7ff; text-decoration-color: #00d7ff\">None</span>, <span style=\"color: #00af00; text-decoration-color: #00af00\">2520</span>)           │       <span style=\"color: #00af00; text-decoration-color: #00af00\">506,520</span> │\n",
       "└─────────────────────────────────┴────────────────────────┴───────────────┘\n",
       "</pre>\n"
      ],
      "text/plain": [
       "┏━━━━━━━━━━━━━━━━━━━━━━━━━━━━━━━━━┳━━━━━━━━━━━━━━━━━━━━━━━━┳━━━━━━━━━━━━━━━┓\n",
       "┃\u001b[1m \u001b[0m\u001b[1mLayer (type)                   \u001b[0m\u001b[1m \u001b[0m┃\u001b[1m \u001b[0m\u001b[1mOutput Shape          \u001b[0m\u001b[1m \u001b[0m┃\u001b[1m \u001b[0m\u001b[1m      Param #\u001b[0m\u001b[1m \u001b[0m┃\n",
       "┡━━━━━━━━━━━━━━━━━━━━━━━━━━━━━━━━━╇━━━━━━━━━━━━━━━━━━━━━━━━╇━━━━━━━━━━━━━━━┩\n",
       "│ embedding (\u001b[38;5;33mEmbedding\u001b[0m)           │ (\u001b[38;5;45mNone\u001b[0m, \u001b[38;5;34m31\u001b[0m, \u001b[38;5;34m100\u001b[0m)        │       \u001b[38;5;34m252,000\u001b[0m │\n",
       "├─────────────────────────────────┼────────────────────────┼───────────────┤\n",
       "│ lstm (\u001b[38;5;33mLSTM\u001b[0m)                     │ (\u001b[38;5;45mNone\u001b[0m, \u001b[38;5;34m31\u001b[0m, \u001b[38;5;34m150\u001b[0m)        │       \u001b[38;5;34m150,600\u001b[0m │\n",
       "├─────────────────────────────────┼────────────────────────┼───────────────┤\n",
       "│ dropout (\u001b[38;5;33mDropout\u001b[0m)               │ (\u001b[38;5;45mNone\u001b[0m, \u001b[38;5;34m31\u001b[0m, \u001b[38;5;34m150\u001b[0m)        │             \u001b[38;5;34m0\u001b[0m │\n",
       "├─────────────────────────────────┼────────────────────────┼───────────────┤\n",
       "│ lstm_1 (\u001b[38;5;33mLSTM\u001b[0m)                   │ (\u001b[38;5;45mNone\u001b[0m, \u001b[38;5;34m31\u001b[0m, \u001b[38;5;34m150\u001b[0m)        │       \u001b[38;5;34m180,600\u001b[0m │\n",
       "├─────────────────────────────────┼────────────────────────┼───────────────┤\n",
       "│ dropout_1 (\u001b[38;5;33mDropout\u001b[0m)             │ (\u001b[38;5;45mNone\u001b[0m, \u001b[38;5;34m31\u001b[0m, \u001b[38;5;34m150\u001b[0m)        │             \u001b[38;5;34m0\u001b[0m │\n",
       "├─────────────────────────────────┼────────────────────────┼───────────────┤\n",
       "│ lstm_2 (\u001b[38;5;33mLSTM\u001b[0m)                   │ (\u001b[38;5;45mNone\u001b[0m, \u001b[38;5;34m31\u001b[0m, \u001b[38;5;34m150\u001b[0m)        │       \u001b[38;5;34m180,600\u001b[0m │\n",
       "├─────────────────────────────────┼────────────────────────┼───────────────┤\n",
       "│ dropout_2 (\u001b[38;5;33mDropout\u001b[0m)             │ (\u001b[38;5;45mNone\u001b[0m, \u001b[38;5;34m31\u001b[0m, \u001b[38;5;34m150\u001b[0m)        │             \u001b[38;5;34m0\u001b[0m │\n",
       "├─────────────────────────────────┼────────────────────────┼───────────────┤\n",
       "│ lstm_3 (\u001b[38;5;33mLSTM\u001b[0m)                   │ (\u001b[38;5;45mNone\u001b[0m, \u001b[38;5;34m150\u001b[0m)            │       \u001b[38;5;34m180,600\u001b[0m │\n",
       "├─────────────────────────────────┼────────────────────────┼───────────────┤\n",
       "│ dropout_3 (\u001b[38;5;33mDropout\u001b[0m)             │ (\u001b[38;5;45mNone\u001b[0m, \u001b[38;5;34m150\u001b[0m)            │             \u001b[38;5;34m0\u001b[0m │\n",
       "├─────────────────────────────────┼────────────────────────┼───────────────┤\n",
       "│ dense (\u001b[38;5;33mDense\u001b[0m)                   │ (\u001b[38;5;45mNone\u001b[0m, \u001b[38;5;34m200\u001b[0m)            │        \u001b[38;5;34m30,200\u001b[0m │\n",
       "├─────────────────────────────────┼────────────────────────┼───────────────┤\n",
       "│ batch_normalization             │ (\u001b[38;5;45mNone\u001b[0m, \u001b[38;5;34m200\u001b[0m)            │           \u001b[38;5;34m800\u001b[0m │\n",
       "│ (\u001b[38;5;33mBatchNormalization\u001b[0m)            │                        │               │\n",
       "├─────────────────────────────────┼────────────────────────┼───────────────┤\n",
       "│ dense_1 (\u001b[38;5;33mDense\u001b[0m)                 │ (\u001b[38;5;45mNone\u001b[0m, \u001b[38;5;34m2520\u001b[0m)           │       \u001b[38;5;34m506,520\u001b[0m │\n",
       "└─────────────────────────────────┴────────────────────────┴───────────────┘\n"
      ]
     },
     "metadata": {},
     "output_type": "display_data"
    },
    {
     "data": {
      "text/html": [
       "<pre style=\"white-space:pre;overflow-x:auto;line-height:normal;font-family:Menlo,'DejaVu Sans Mono',consolas,'Courier New',monospace\"><span style=\"font-weight: bold\"> Total params: </span><span style=\"color: #00af00; text-decoration-color: #00af00\">1,481,920</span> (5.65 MB)\n",
       "</pre>\n"
      ],
      "text/plain": [
       "\u001b[1m Total params: \u001b[0m\u001b[38;5;34m1,481,920\u001b[0m (5.65 MB)\n"
      ]
     },
     "metadata": {},
     "output_type": "display_data"
    },
    {
     "data": {
      "text/html": [
       "<pre style=\"white-space:pre;overflow-x:auto;line-height:normal;font-family:Menlo,'DejaVu Sans Mono',consolas,'Courier New',monospace\"><span style=\"font-weight: bold\"> Trainable params: </span><span style=\"color: #00af00; text-decoration-color: #00af00\">1,481,520</span> (5.65 MB)\n",
       "</pre>\n"
      ],
      "text/plain": [
       "\u001b[1m Trainable params: \u001b[0m\u001b[38;5;34m1,481,520\u001b[0m (5.65 MB)\n"
      ]
     },
     "metadata": {},
     "output_type": "display_data"
    },
    {
     "data": {
      "text/html": [
       "<pre style=\"white-space:pre;overflow-x:auto;line-height:normal;font-family:Menlo,'DejaVu Sans Mono',consolas,'Courier New',monospace\"><span style=\"font-weight: bold\"> Non-trainable params: </span><span style=\"color: #00af00; text-decoration-color: #00af00\">400</span> (1.56 KB)\n",
       "</pre>\n"
      ],
      "text/plain": [
       "\u001b[1m Non-trainable params: \u001b[0m\u001b[38;5;34m400\u001b[0m (1.56 KB)\n"
      ]
     },
     "metadata": {},
     "output_type": "display_data"
    }
   ],
   "source": [
    "from tensorflow.keras.models import Sequential\n",
    "from tensorflow.keras.layers import Embedding, LSTM, Dense, Dropout, BatchNormalization\n",
    "from tensorflow.keras.callbacks import EarlyStopping, ModelCheckpoint\n",
    "\n",
    "model = Sequential()\n",
    "\n",
    "# Embedding layer\n",
    "model.add(Embedding(input_dim=len(tokenizer.word_index) + 1, \n",
    "                    output_dim=100, \n",
    "                    input_length=X.shape[1]))\n",
    "\n",
    "# First LSTM layer with return_sequences=True\n",
    "model.add(LSTM(150, return_sequences=True))\n",
    "model.add(Dropout(0.3))  # Add Dropout to prevent overfitting\n",
    "\n",
    "# Second LSTM layer with return_sequences=True\n",
    "model.add(LSTM(150, return_sequences=True))\n",
    "model.add(Dropout(0.3))  # Add Dropout to prevent overfitting\n",
    "\n",
    "# Third LSTM layer with return_sequences=True\n",
    "model.add(LSTM(150, return_sequences=True))\n",
    "model.add(Dropout(0.3))  # Add Dropout to prevent overfitting\n",
    "\n",
    "# Fourth LSTM layer without return_sequences\n",
    "model.add(LSTM(150))\n",
    "model.add(Dropout(0.3))  # Add Dropout to prevent overfitting\n",
    "\n",
    "# Dense layer to reduce dimensions before output\n",
    "model.add(Dense(200, activation='relu'))\n",
    "model.add(BatchNormalization())  # Add Batch Normalization for stability\n",
    "\n",
    "# Output layer\n",
    "model.add(Dense(len(tokenizer.word_index) + 1, activation='softmax'))\n",
    "\n",
    "# Compile the model\n",
    "model.compile(loss='categorical_crossentropy', optimizer='adam', metrics=['accuracy'])\n",
    "\n",
    "# Define callbacks\n",
    "callbacks = [\n",
    "    EarlyStopping(monitor='loss', patience=5, restore_best_weights=True),  # Stop if no improvement in 'loss'\n",
    "    ModelCheckpoint(filepath='best_model.keras', monitor='loss', save_best_only=True)  # Save the best model\n",
    "]\n",
    "\n",
    "model.build(input_shape=(None, X.shape[1]))\n",
    "model.summary()\n"
   ]
  },
  {
   "cell_type": "code",
   "execution_count": 12,
   "id": "de427592",
   "metadata": {
    "execution": {
     "iopub.execute_input": "2024-08-26T14:49:23.810352Z",
     "iopub.status.busy": "2024-08-26T14:49:23.810087Z",
     "iopub.status.idle": "2024-08-26T15:03:54.219985Z",
     "shell.execute_reply": "2024-08-26T15:03:54.219086Z"
    },
    "papermill": {
     "duration": 870.419004,
     "end_time": "2024-08-26T15:03:54.222244",
     "exception": false,
     "start_time": "2024-08-26T14:49:23.803240",
     "status": "completed"
    },
    "tags": []
   },
   "outputs": [
    {
     "name": "stdout",
     "output_type": "stream",
     "text": [
      "Epoch 1/50\n",
      "\u001b[1m1387/1387\u001b[0m \u001b[32m━━━━━━━━━━━━━━━━━━━━\u001b[0m\u001b[37m\u001b[0m \u001b[1m24s\u001b[0m 12ms/step - accuracy: 0.0244 - loss: 6.8039\n",
      "Epoch 2/50\n",
      "\u001b[1m1387/1387\u001b[0m \u001b[32m━━━━━━━━━━━━━━━━━━━━\u001b[0m\u001b[37m\u001b[0m \u001b[1m17s\u001b[0m 12ms/step - accuracy: 0.0346 - loss: 6.2159\n",
      "Epoch 3/50\n",
      "\u001b[1m1387/1387\u001b[0m \u001b[32m━━━━━━━━━━━━━━━━━━━━\u001b[0m\u001b[37m\u001b[0m \u001b[1m17s\u001b[0m 12ms/step - accuracy: 0.0335 - loss: 6.1715\n",
      "Epoch 4/50\n",
      "\u001b[1m1387/1387\u001b[0m \u001b[32m━━━━━━━━━━━━━━━━━━━━\u001b[0m\u001b[37m\u001b[0m \u001b[1m17s\u001b[0m 12ms/step - accuracy: 0.0349 - loss: 6.1640\n",
      "Epoch 5/50\n",
      "\u001b[1m1387/1387\u001b[0m \u001b[32m━━━━━━━━━━━━━━━━━━━━\u001b[0m\u001b[37m\u001b[0m \u001b[1m17s\u001b[0m 12ms/step - accuracy: 0.0381 - loss: 6.1644\n",
      "Epoch 6/50\n",
      "\u001b[1m1387/1387\u001b[0m \u001b[32m━━━━━━━━━━━━━━━━━━━━\u001b[0m\u001b[37m\u001b[0m \u001b[1m17s\u001b[0m 12ms/step - accuracy: 0.0340 - loss: 6.1623\n",
      "Epoch 7/50\n",
      "\u001b[1m1387/1387\u001b[0m \u001b[32m━━━━━━━━━━━━━━━━━━━━\u001b[0m\u001b[37m\u001b[0m \u001b[1m17s\u001b[0m 12ms/step - accuracy: 0.0343 - loss: 6.1380\n",
      "Epoch 8/50\n",
      "\u001b[1m1387/1387\u001b[0m \u001b[32m━━━━━━━━━━━━━━━━━━━━\u001b[0m\u001b[37m\u001b[0m \u001b[1m17s\u001b[0m 12ms/step - accuracy: 0.0349 - loss: 6.1317\n",
      "Epoch 9/50\n",
      "\u001b[1m1387/1387\u001b[0m \u001b[32m━━━━━━━━━━━━━━━━━━━━\u001b[0m\u001b[37m\u001b[0m \u001b[1m18s\u001b[0m 13ms/step - accuracy: 0.0387 - loss: 6.1491\n",
      "Epoch 10/50\n",
      "\u001b[1m1387/1387\u001b[0m \u001b[32m━━━━━━━━━━━━━━━━━━━━\u001b[0m\u001b[37m\u001b[0m \u001b[1m18s\u001b[0m 13ms/step - accuracy: 0.0375 - loss: 6.1397\n",
      "Epoch 11/50\n",
      "\u001b[1m1387/1387\u001b[0m \u001b[32m━━━━━━━━━━━━━━━━━━━━\u001b[0m\u001b[37m\u001b[0m \u001b[1m17s\u001b[0m 12ms/step - accuracy: 0.0344 - loss: 6.1452\n",
      "Epoch 12/50\n",
      "\u001b[1m1387/1387\u001b[0m \u001b[32m━━━━━━━━━━━━━━━━━━━━\u001b[0m\u001b[37m\u001b[0m \u001b[1m18s\u001b[0m 13ms/step - accuracy: 0.0389 - loss: 6.1261\n",
      "Epoch 13/50\n",
      "\u001b[1m1387/1387\u001b[0m \u001b[32m━━━━━━━━━━━━━━━━━━━━\u001b[0m\u001b[37m\u001b[0m \u001b[1m17s\u001b[0m 13ms/step - accuracy: 0.0548 - loss: 5.7838\n",
      "Epoch 14/50\n",
      "\u001b[1m1387/1387\u001b[0m \u001b[32m━━━━━━━━━━━━━━━━━━━━\u001b[0m\u001b[37m\u001b[0m \u001b[1m17s\u001b[0m 12ms/step - accuracy: 0.0711 - loss: 5.5464\n",
      "Epoch 15/50\n",
      "\u001b[1m1387/1387\u001b[0m \u001b[32m━━━━━━━━━━━━━━━━━━━━\u001b[0m\u001b[37m\u001b[0m \u001b[1m17s\u001b[0m 12ms/step - accuracy: 0.0850 - loss: 5.3829\n",
      "Epoch 16/50\n",
      "\u001b[1m1387/1387\u001b[0m \u001b[32m━━━━━━━━━━━━━━━━━━━━\u001b[0m\u001b[37m\u001b[0m \u001b[1m17s\u001b[0m 13ms/step - accuracy: 0.0925 - loss: 5.2547\n",
      "Epoch 17/50\n",
      "\u001b[1m1387/1387\u001b[0m \u001b[32m━━━━━━━━━━━━━━━━━━━━\u001b[0m\u001b[37m\u001b[0m \u001b[1m17s\u001b[0m 12ms/step - accuracy: 0.0972 - loss: 5.1327\n",
      "Epoch 18/50\n",
      "\u001b[1m1387/1387\u001b[0m \u001b[32m━━━━━━━━━━━━━━━━━━━━\u001b[0m\u001b[37m\u001b[0m \u001b[1m17s\u001b[0m 13ms/step - accuracy: 0.1069 - loss: 5.0319\n",
      "Epoch 19/50\n",
      "\u001b[1m1387/1387\u001b[0m \u001b[32m━━━━━━━━━━━━━━━━━━━━\u001b[0m\u001b[37m\u001b[0m \u001b[1m17s\u001b[0m 13ms/step - accuracy: 0.1072 - loss: 4.9643\n",
      "Epoch 20/50\n",
      "\u001b[1m1387/1387\u001b[0m \u001b[32m━━━━━━━━━━━━━━━━━━━━\u001b[0m\u001b[37m\u001b[0m \u001b[1m17s\u001b[0m 12ms/step - accuracy: 0.1138 - loss: 4.8484\n",
      "Epoch 21/50\n",
      "\u001b[1m1387/1387\u001b[0m \u001b[32m━━━━━━━━━━━━━━━━━━━━\u001b[0m\u001b[37m\u001b[0m \u001b[1m17s\u001b[0m 12ms/step - accuracy: 0.1223 - loss: 4.7327\n",
      "Epoch 22/50\n",
      "\u001b[1m1387/1387\u001b[0m \u001b[32m━━━━━━━━━━━━━━━━━━━━\u001b[0m\u001b[37m\u001b[0m \u001b[1m17s\u001b[0m 12ms/step - accuracy: 0.1272 - loss: 4.6537\n",
      "Epoch 23/50\n",
      "\u001b[1m1387/1387\u001b[0m \u001b[32m━━━━━━━━━━━━━━━━━━━━\u001b[0m\u001b[37m\u001b[0m \u001b[1m17s\u001b[0m 12ms/step - accuracy: 0.1256 - loss: 4.5822\n",
      "Epoch 24/50\n",
      "\u001b[1m1387/1387\u001b[0m \u001b[32m━━━━━━━━━━━━━━━━━━━━\u001b[0m\u001b[37m\u001b[0m \u001b[1m17s\u001b[0m 12ms/step - accuracy: 0.1307 - loss: 4.4960\n",
      "Epoch 25/50\n",
      "\u001b[1m1387/1387\u001b[0m \u001b[32m━━━━━━━━━━━━━━━━━━━━\u001b[0m\u001b[37m\u001b[0m \u001b[1m17s\u001b[0m 12ms/step - accuracy: 0.1398 - loss: 4.4143\n",
      "Epoch 26/50\n",
      "\u001b[1m1387/1387\u001b[0m \u001b[32m━━━━━━━━━━━━━━━━━━━━\u001b[0m\u001b[37m\u001b[0m \u001b[1m17s\u001b[0m 12ms/step - accuracy: 0.1369 - loss: 4.3631\n",
      "Epoch 27/50\n",
      "\u001b[1m1387/1387\u001b[0m \u001b[32m━━━━━━━━━━━━━━━━━━━━\u001b[0m\u001b[37m\u001b[0m \u001b[1m17s\u001b[0m 13ms/step - accuracy: 0.1409 - loss: 4.3132\n",
      "Epoch 28/50\n",
      "\u001b[1m1387/1387\u001b[0m \u001b[32m━━━━━━━━━━━━━━━━━━━━\u001b[0m\u001b[37m\u001b[0m \u001b[1m17s\u001b[0m 13ms/step - accuracy: 0.1467 - loss: 4.2307\n",
      "Epoch 29/50\n",
      "\u001b[1m1387/1387\u001b[0m \u001b[32m━━━━━━━━━━━━━━━━━━━━\u001b[0m\u001b[37m\u001b[0m \u001b[1m17s\u001b[0m 13ms/step - accuracy: 0.1497 - loss: 4.1829\n",
      "Epoch 30/50\n",
      "\u001b[1m1387/1387\u001b[0m \u001b[32m━━━━━━━━━━━━━━━━━━━━\u001b[0m\u001b[37m\u001b[0m \u001b[1m17s\u001b[0m 12ms/step - accuracy: 0.1536 - loss: 4.1294\n",
      "Epoch 31/50\n",
      "\u001b[1m1387/1387\u001b[0m \u001b[32m━━━━━━━━━━━━━━━━━━━━\u001b[0m\u001b[37m\u001b[0m \u001b[1m17s\u001b[0m 12ms/step - accuracy: 0.1591 - loss: 4.0713\n",
      "Epoch 32/50\n",
      "\u001b[1m1387/1387\u001b[0m \u001b[32m━━━━━━━━━━━━━━━━━━━━\u001b[0m\u001b[37m\u001b[0m \u001b[1m17s\u001b[0m 12ms/step - accuracy: 0.1617 - loss: 4.0240\n",
      "Epoch 33/50\n",
      "\u001b[1m1387/1387\u001b[0m \u001b[32m━━━━━━━━━━━━━━━━━━━━\u001b[0m\u001b[37m\u001b[0m \u001b[1m17s\u001b[0m 12ms/step - accuracy: 0.1638 - loss: 3.9895\n",
      "Epoch 34/50\n",
      "\u001b[1m1387/1387\u001b[0m \u001b[32m━━━━━━━━━━━━━━━━━━━━\u001b[0m\u001b[37m\u001b[0m \u001b[1m17s\u001b[0m 12ms/step - accuracy: 0.1723 - loss: 3.9386\n",
      "Epoch 35/50\n",
      "\u001b[1m1387/1387\u001b[0m \u001b[32m━━━━━━━━━━━━━━━━━━━━\u001b[0m\u001b[37m\u001b[0m \u001b[1m17s\u001b[0m 12ms/step - accuracy: 0.1770 - loss: 3.8916\n",
      "Epoch 36/50\n",
      "\u001b[1m1387/1387\u001b[0m \u001b[32m━━━━━━━━━━━━━━━━━━━━\u001b[0m\u001b[37m\u001b[0m \u001b[1m17s\u001b[0m 12ms/step - accuracy: 0.1812 - loss: 3.8442\n",
      "Epoch 37/50\n",
      "\u001b[1m1387/1387\u001b[0m \u001b[32m━━━━━━━━━━━━━━━━━━━━\u001b[0m\u001b[37m\u001b[0m \u001b[1m17s\u001b[0m 12ms/step - accuracy: 0.1819 - loss: 3.8125\n",
      "Epoch 38/50\n",
      "\u001b[1m1387/1387\u001b[0m \u001b[32m━━━━━━━━━━━━━━━━━━━━\u001b[0m\u001b[37m\u001b[0m \u001b[1m17s\u001b[0m 12ms/step - accuracy: 0.1815 - loss: 3.7734\n",
      "Epoch 39/50\n",
      "\u001b[1m1387/1387\u001b[0m \u001b[32m━━━━━━━━━━━━━━━━━━━━\u001b[0m\u001b[37m\u001b[0m \u001b[1m17s\u001b[0m 12ms/step - accuracy: 0.1883 - loss: 3.7281\n",
      "Epoch 40/50\n",
      "\u001b[1m1387/1387\u001b[0m \u001b[32m━━━━━━━━━━━━━━━━━━━━\u001b[0m\u001b[37m\u001b[0m \u001b[1m17s\u001b[0m 12ms/step - accuracy: 0.1882 - loss: 3.7168\n",
      "Epoch 41/50\n",
      "\u001b[1m1387/1387\u001b[0m \u001b[32m━━━━━━━━━━━━━━━━━━━━\u001b[0m\u001b[37m\u001b[0m \u001b[1m18s\u001b[0m 13ms/step - accuracy: 0.2001 - loss: 3.6819\n",
      "Epoch 42/50\n",
      "\u001b[1m1387/1387\u001b[0m \u001b[32m━━━━━━━━━━━━━━━━━━━━\u001b[0m\u001b[37m\u001b[0m \u001b[1m17s\u001b[0m 13ms/step - accuracy: 0.2000 - loss: 3.6512\n",
      "Epoch 43/50\n",
      "\u001b[1m1387/1387\u001b[0m \u001b[32m━━━━━━━━━━━━━━━━━━━━\u001b[0m\u001b[37m\u001b[0m \u001b[1m17s\u001b[0m 12ms/step - accuracy: 0.2064 - loss: 3.6145\n",
      "Epoch 44/50\n",
      "\u001b[1m1387/1387\u001b[0m \u001b[32m━━━━━━━━━━━━━━━━━━━━\u001b[0m\u001b[37m\u001b[0m \u001b[1m17s\u001b[0m 13ms/step - accuracy: 0.2094 - loss: 3.5827\n",
      "Epoch 45/50\n",
      "\u001b[1m1387/1387\u001b[0m \u001b[32m━━━━━━━━━━━━━━━━━━━━\u001b[0m\u001b[37m\u001b[0m \u001b[1m18s\u001b[0m 13ms/step - accuracy: 0.2097 - loss: 3.5589\n",
      "Epoch 46/50\n",
      "\u001b[1m1387/1387\u001b[0m \u001b[32m━━━━━━━━━━━━━━━━━━━━\u001b[0m\u001b[37m\u001b[0m \u001b[1m18s\u001b[0m 13ms/step - accuracy: 0.2145 - loss: 3.5310\n",
      "Epoch 47/50\n",
      "\u001b[1m1387/1387\u001b[0m \u001b[32m━━━━━━━━━━━━━━━━━━━━\u001b[0m\u001b[37m\u001b[0m \u001b[1m18s\u001b[0m 13ms/step - accuracy: 0.2184 - loss: 3.4976\n",
      "Epoch 48/50\n",
      "\u001b[1m1387/1387\u001b[0m \u001b[32m━━━━━━━━━━━━━━━━━━━━\u001b[0m\u001b[37m\u001b[0m \u001b[1m17s\u001b[0m 12ms/step - accuracy: 0.2231 - loss: 3.4786\n",
      "Epoch 49/50\n",
      "\u001b[1m1387/1387\u001b[0m \u001b[32m━━━━━━━━━━━━━━━━━━━━\u001b[0m\u001b[37m\u001b[0m \u001b[1m17s\u001b[0m 12ms/step - accuracy: 0.2297 - loss: 3.4291\n",
      "Epoch 50/50\n",
      "\u001b[1m1387/1387\u001b[0m \u001b[32m━━━━━━━━━━━━━━━━━━━━\u001b[0m\u001b[37m\u001b[0m \u001b[1m17s\u001b[0m 12ms/step - accuracy: 0.2276 - loss: 3.4277\n"
     ]
    },
    {
     "data": {
      "text/plain": [
       "<keras.src.callbacks.history.History at 0x7ad4344da710>"
      ]
     },
     "execution_count": 12,
     "metadata": {},
     "output_type": "execute_result"
    }
   ],
   "source": [
    "model.fit(X, y, epochs=50, batch_size=32, callbacks=callbacks)\n"
   ]
  },
  {
   "cell_type": "code",
   "execution_count": 13,
   "id": "c79eb4c6",
   "metadata": {
    "execution": {
     "iopub.execute_input": "2024-08-26T15:03:56.689921Z",
     "iopub.status.busy": "2024-08-26T15:03:56.689242Z",
     "iopub.status.idle": "2024-08-26T15:04:02.369231Z",
     "shell.execute_reply": "2024-08-26T15:04:02.368442Z"
    },
    "papermill": {
     "duration": 6.938581,
     "end_time": "2024-08-26T15:04:02.371463",
     "exception": false,
     "start_time": "2024-08-26T15:03:55.432882",
     "status": "completed"
    },
    "tags": []
   },
   "outputs": [
    {
     "name": "stdout",
     "output_type": "stream",
     "text": [
      "\u001b[1m1/1\u001b[0m \u001b[32m━━━━━━━━━━━━━━━━━━━━\u001b[0m\u001b[37m\u001b[0m \u001b[1m0s\u001b[0m 342ms/step\n",
      "school do\n",
      "\u001b[1m1/1\u001b[0m \u001b[32m━━━━━━━━━━━━━━━━━━━━\u001b[0m\u001b[37m\u001b[0m \u001b[1m0s\u001b[0m 22ms/step\n",
      "school do you\n",
      "\u001b[1m1/1\u001b[0m \u001b[32m━━━━━━━━━━━━━━━━━━━━\u001b[0m\u001b[37m\u001b[0m \u001b[1m0s\u001b[0m 21ms/step\n",
      "school do you mean\n",
      "\u001b[1m1/1\u001b[0m \u001b[32m━━━━━━━━━━━━━━━━━━━━\u001b[0m\u001b[37m\u001b[0m \u001b[1m0s\u001b[0m 20ms/step\n",
      "school do you mean that\n",
      "\u001b[1m1/1\u001b[0m \u001b[32m━━━━━━━━━━━━━━━━━━━━\u001b[0m\u001b[37m\u001b[0m \u001b[1m0s\u001b[0m 22ms/step\n",
      "school do you mean that i\n"
     ]
    }
   ],
   "source": [
    "import time\n",
    "import numpy as np\n",
    "text = \"school\"\n",
    "\n",
    "for i in range(5):\n",
    "  # tokenize\n",
    "  token_text = tokenizer.texts_to_sequences([text])[0]\n",
    "  # padding\n",
    "  padded_token_text = pad_sequences([token_text], maxlen=max_len, padding='pre')\n",
    "  # predict\n",
    "  pos = np.argmax(model.predict(padded_token_text))\n",
    "\n",
    "  for word,index in tokenizer.word_index.items():\n",
    "    if index == pos:\n",
    "      text = text + \" \" + word\n",
    "      print(text)\n",
    "      time.sleep(1)"
   ]
  },
  {
   "cell_type": "code",
   "execution_count": null,
   "id": "9da4946b",
   "metadata": {
    "papermill": {
     "duration": 1.250561,
     "end_time": "2024-08-26T15:04:04.814984",
     "exception": false,
     "start_time": "2024-08-26T15:04:03.564423",
     "status": "completed"
    },
    "tags": []
   },
   "outputs": [],
   "source": []
  }
 ],
 "metadata": {
  "kaggle": {
   "accelerator": "nvidiaTeslaT4",
   "dataSources": [
    {
     "datasetId": 5597365,
     "sourceId": 9251890,
     "sourceType": "datasetVersion"
    }
   ],
   "dockerImageVersionId": 30746,
   "isGpuEnabled": true,
   "isInternetEnabled": false,
   "language": "python",
   "sourceType": "notebook"
  },
  "kernelspec": {
   "display_name": "Python 3",
   "language": "python",
   "name": "python3"
  },
  "language_info": {
   "codemirror_mode": {
    "name": "ipython",
    "version": 3
   },
   "file_extension": ".py",
   "mimetype": "text/x-python",
   "name": "python",
   "nbconvert_exporter": "python",
   "pygments_lexer": "ipython3",
   "version": "3.10.13"
  },
  "papermill": {
   "default_parameters": {},
   "duration": 903.907678,
   "end_time": "2024-08-26T15:04:08.637309",
   "environment_variables": {},
   "exception": null,
   "input_path": "__notebook__.ipynb",
   "output_path": "__notebook__.ipynb",
   "parameters": {},
   "start_time": "2024-08-26T14:49:04.729631",
   "version": "2.5.0"
  }
 },
 "nbformat": 4,
 "nbformat_minor": 5
}
